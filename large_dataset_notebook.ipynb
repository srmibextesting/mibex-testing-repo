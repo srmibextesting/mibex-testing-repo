{
 "cells": [
  {
   "cell_type": "code",
   "execution_count": null,
   "id": "c96b592f",
   "metadata": {},
   "outputs": [],
   "source": [
    "import pandas as pd\n",
    "import numpy as np\n",
    "\n",
    "# Recreate the large DataFrame\n",
    "rows = 2000000\n",
    "cols = 10\n",
    "df = pd.DataFrame(np.random.rand(rows, cols), columns=[f\"col_{i}\" for i in range(cols)])\n",
    "\n",
    "# Display the DataFrame\n",
    "df\n"
   ]
  }
 ],
 "metadata": {},
 "nbformat": 4,
 "nbformat_minor": 5
}
